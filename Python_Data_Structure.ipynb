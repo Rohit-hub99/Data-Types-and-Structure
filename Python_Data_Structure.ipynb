{
  "nbformat": 4,
  "nbformat_minor": 0,
  "metadata": {
    "colab": {
      "provenance": []
    },
    "kernelspec": {
      "name": "python3",
      "display_name": "Python 3"
    },
    "language_info": {
      "name": "python"
    }
  },
  "cells": [
    {
      "cell_type": "code",
      "execution_count": null,
      "metadata": {
        "id": "yJH9pxCSmTnT"
      },
      "outputs": [],
      "source": []
    },
    {
      "cell_type": "markdown",
      "source": [
        "Data Types and Structures Theory Questions"
      ],
      "metadata": {
        "id": "Pp8OkwsUnChw"
      }
    },
    {
      "cell_type": "markdown",
      "source": [
        "1. What are data structures, and why are they important ?\n",
        "  - Data structures are ways of organizing and storing data so that it can be accessed and managed efficiently. They provide the foundation for designing efficient algorithms and solving computational problems. In programming and computer science, choosing the right data structure can significantly affect the performance of a program or system.\n",
        "\n",
        "    Types of Data Structures\n",
        "\n",
        "    Linear Data Structures: Data is organized sequentially.\n",
        "\n",
        "    Examples: Arrays, Linked Lists, Stacks, Queues\n",
        "\n",
        "    Non-Linear Data Structures: Data is organized hierarchically or in a graph-like manner.\n",
        "\n",
        "    Examples: Trees (e.g., Binary Trees, Binary Search Trees), Graphs, Heaps, Hash Tables\n",
        "  \n",
        "    Why Are Data Structures Important\n",
        "\n",
        "    Efficient Data Management: Data structures allow efficient storage, retrieval, and modification of data. For example, a hash table provides fast lookups, while a binary tree enables sorted data traversal.\n",
        "    \n",
        "    Improved Performance: Algorithms often depend on specific data structures to achieve optimal performance. For example, Dijkstra's algorithm for shortest paths uses a priority queue.\n",
        "\n",
        "\n",
        "\n",
        "2.  Explain the difference between mutable and immutable data types with examples ?\n",
        "   - The key difference between mutable and immutable data types lies in whether or not their values can be changed after they are created.\n",
        "\n",
        "      Mutable Data Types\n",
        "\n",
        "   Definition: These are data types whose content can be changed (mutated) after they are created.\n",
        "\n",
        "   Examples in Python:\n",
        "   \n",
        "   Lists: You can add, remove, or modify elements\n",
        "\n",
        "   Dictionaries: You can add or change key-value pairs\n",
        "   \n",
        "   Sets: You can add or remove elements.\n",
        "\n",
        "      Immutable Data Types\n",
        "\n",
        "   Definition: These are data types whose content cannot be changed once they are created. If you attempt to modify their value, a new object is created.\n",
        "\n",
        "   Examples in Python:\n",
        "   \n",
        "   Strings: Any modification results in a new string being created.\n",
        "   \n",
        "   Tuples: Elements cannot be added, removed, or changed.\n",
        "  \n",
        "   Numbers: Integers, floats, and complex numbers are immutable.\n",
        "   \n",
        "   Frozen Sets: Immutable version of sets.\n",
        "\n",
        "\n",
        "\n",
        "3. What are the main differences between lists and tuples in Python ?\n",
        "  - Lists and tuples are two commonly used data structures in Python, and while they share some similarities, they have key differences that influence when and how you use them.\n",
        "\n",
        "    Key Differences Between Lists and Tuples\n",
        "    \n",
        "    Lists are mutable (elements can be modified), while tuples are Immutable (elements cannot be changed).\n",
        "\n",
        "    Lists are defined using square brackets [], While tuples are defined using parentheses ().\n",
        "\n",
        "    Lists performance slightly slower due to mutability, While tuples performance faster due to immutability.\n",
        "\n",
        "    Lists are suitable for dynamic collections of data, While tuples are Suitable for fixed collections of data.\n",
        "\n",
        "    Lists has methods like append(), extend(), pop(), remove(), While tuples has Fewer methods; only supports operations like count() and index().\n",
        "\n",
        "\n",
        "\n",
        "4. Describe how dictionaries store data ?\n",
        "  - Dictionaries in Python store data as key-value pairs and are implemented using a hash table under the hood. This allows them to provide efficient lookups, insertions, and deletions, typically with an average time complexity of 𝑂(1).\n",
        "\n",
        "\n",
        "\n",
        "5. Why might you use a set instead of a list in Python ?\n",
        "  - We might use a set instead of a list in Python for several reasons, depending on the requirements of your task. Below are key scenarios where a set is more appropriate than a list:\n",
        "\n",
        "  To Ensure Unique Elements\n",
        "\n",
        "  Sets automatically remove duplicate elements, while lists can contain duplicates.\n",
        "\n",
        "  If you need a collection of unique items, sets are ideal.\n",
        "  \n",
        "  Faster Membership Testing\n",
        "  \n",
        "  A set provides O(1) average time complexity for checking if an item exists, thanks to its hash-based structure.\n",
        "\n",
        "  A list has O(n) time complexity for membership tests because it must iterate through each element.\n",
        "\n",
        "\n",
        "6. What is a string in Python, and how is it different from a list ?\n",
        "  - In Python, a string and a list are both sequences, but they have key differences in their properties and use cases. Below are overview:\n",
        "  \n",
        "  Differences Between a String and a List\n",
        "\n",
        "  String\n",
        "\n",
        "  Type of Elements: Characters (e.g., \"a\", \"b\")\n",
        "  Immutable (cannot be changed)\n",
        "  Enclosed in quotes (\" \", ' ')\n",
        "  Represents text\n",
        "  Slicing supported\n",
        "  Concatenation: Creates a new string\n",
        "\n",
        "  List\n",
        "\n",
        "  Type of Elements: Any data type (e.g., int, str, list)\n",
        "\n",
        "  Mutable (can be changed)\n",
        "\n",
        "  Enclosed in square brackets ([ ])\n",
        "\n",
        "  Represents a collection of items\n",
        "\n",
        "  Slicing supported\n",
        "  \n",
        "  Concatenation: Combines lists\n",
        "\n",
        "\n",
        "\n",
        "7. How do tuples ensure data integrity in Python ?\n",
        "  - Tuples in Python help ensure data integrity through their immutability and other characteristics that make them a reliable choice for storing and protecting data. Here's how they achieve this:\n",
        "\n",
        "   Immutability\n",
        "\n",
        "   Hashability\n",
        "\n",
        "   Fixed Structure\n",
        "\n",
        "   Prevention of Accidental Changes\n",
        "\n",
        "   Nested Immutability\n",
        "\n",
        "\n",
        "\n",
        "8. What is a hash table, and how does it relate to dictionaries in Python ?\n",
        "  - hash table is a data structure that stores key-value pairs and provides fast data retrieval based on keys. It achieves this efficiency by using a hash function to compute an index for each key, which determines where the value is stored in an underlying array\n",
        "\n",
        "  In Python, the dictionary (dict) is implemented using a hash table under the hood. Here's how:\n",
        "\n",
        "   When you add a key-value pair to a dictionary, Python computes the hash value of the key using a hash function.\n",
        "   \n",
        "   This hash value determines the index where the value is stored in the internal hash table.\n",
        "\n",
        "\n",
        "9. Can lists contain different data types in Python ?\n",
        "  - Yes, lists in Python can contain elements of different data types. Unlike some other programming languages, Python allows lists to hold a mix of data types, such as integers, strings, floats, and even other lists or objects.\n",
        "\n",
        "\n",
        "10.  Explain why strings are immutable in Python ?\n",
        "  - In Python, strings are immutable for several important reasons related to performance, memory efficiency, security, and design simplicity.\n",
        "\n",
        "     Performance Optimization\n",
        "     \n",
        "     Memory Management\n",
        "     \n",
        "     Security and Safety\n",
        "\n",
        "     Security and SafetySimplifying the Language Design\n",
        "     \n",
        "     Hashing and Dictionary Keys\n",
        "\n",
        "\n",
        "\n",
        "11. What advantages do dictionaries offer over lists for certain tasks ?\n",
        "  - Dictionaries in Python offer several advantages over lists, particularly when you need to map keys to values or require efficient lookups. Here's a breakdown of the key advantages:\n",
        "\n",
        "    Fast Lookup by Key\n",
        "    \n",
        "    Key-Value Mapping\n",
        "    \n",
        "    Flexibility with Key Types\n",
        "    \n",
        "    No Duplicates for Keys\n",
        "\n",
        "    Clearer Data Representation\n",
        "    \n",
        "    Dynamic Key Access\n",
        "    \n",
        "\n",
        "\n",
        "12. Describe a scenario where using a tuple would be preferable over a list ?\n",
        "  - Imagine you're working with geospatial data or representing coordinates in a 2D grid, where each coordinate consists of two values: latitude and longitude. In this case, you can represent each coordinate as a tuple.\n",
        "\n",
        "  - Why Use a Tuple?\n",
        "    \n",
        "    Immutability\n",
        "    \n",
        "    The coordinate values (latitude and longitude) should not change once they are set. Using a tuple ensures that these values remain constant throughout the program, thus preventing accidental modifications.\n",
        "\n",
        "    Efficiency\n",
        "    \n",
        "    Since tuples are smaller and fixed in size compared to lists, they are slightly more memory-efficient and faster for storing a small, fixed collection of elements.\n",
        "\n",
        "    Clear Intent\n",
        "    \n",
        "    Using a tuple clearly indicates that the data represents a fixed, unchanging pair of values, signaling the intent that these values should not be modified. This improves the clarity and readability of the code.\n",
        "    \n",
        "    - Why Not Use a List?\n",
        "    \n",
        "    If you used a list instead of a tuple for each coordinate, you would lose the benefits of immutability, and there would be a risk of accidentally modifying the coordinate values, such as changing the latitude or longitude.\n",
        "\n",
        "\n",
        "\n",
        "13. How do sets handle duplicate values in Python ?\n",
        "  - In Python, sets automatically handle duplicate values by eliminating duplicates. When you try to add an item to a set, if that item is already present, the set simply ignores the addition and keeps only one instance of that item. This behavior ensures that all elements in a set are unique.\n",
        "\n",
        "\n",
        "\n",
        "14. How does the “in” keyword work differently for lists and dictionaries ?\n",
        "  - The in keyword in Python is used to check for membership. It works differently in lists and dictionaries due to the underlying data structures and the type of membership being tested.\n",
        "\n",
        "   Using in with Lists\n",
        "   \n",
        "   When you use the in keyword with a list, it checks if the value is present in the list. The membership test will return True if the value is found, and False if it is not. This operation is linear (O(n)) because Python has to iterate through the list to find the value.\n",
        "\n",
        "   Using in with Dictionaries\n",
        "   \n",
        "   When you use the in keyword with a dictionary, it checks for the presence of a key in the dictionary, not the value. If you want to check for a key, it will return True if the key exists in the dictionary's keys. This operation is constant time (O(1)) because dictionaries are implemented using a hash table, allowing for efficient key lookups.\n",
        "\n",
        "\n",
        "15. Can you modify the elements of a tuple? Explain why or why not\n",
        "  - No, we cannot modify the elements of a tuple after it is created. This is because tuples are immutable in Python.\n",
        "\n",
        "  Why Tuples Are Immutable:\n",
        "  \n",
        "  Immutability means that once a tuple is created, you cannot change its content. This applies to both the elements inside the tuple and its overall structure (such as adding or removing elements).\n",
        "  \n",
        "  The reason for this is to ensure data integrity and to provide certain performance and security benefits. Immutable objects, like tuples, are easier to optimize and can be safely shared between different parts of a program without the risk of being altered unintentionally.\n",
        "  \n",
        "  When Can You Modify a Tuple?\n",
        "  \n",
        "  Although the elements of a tuple are immutable, if a tuple contains a mutable object (like a list), the mutable object inside the tuple can be modified.\n",
        "\n",
        "\n",
        "\n",
        "16. What is a nested dictionary, and give an example of its use case ?\n",
        "  - A nested dictionary is a dictionary in Python where one or more of its values are themselves dictionaries. Essentially, it's a dictionary whose values can contain other dictionaries as values. Nested dictionaries allow you to represent complex, hierarchical data structures, such as those used to represent records, configurations, or relationships between entities.\n",
        "\n",
        "   Use Case: Storing Employee Information\n",
        "   \n",
        "   A nested dictionary is ideal for scenarios like this one, where you need to represent a collection of entities (employees in this case) and each entity has multiple attributes (such as name, age, position, etc.). It allows for efficient access to structured data.\n",
        "\n",
        "\n",
        "\n",
        "17. Describe the time complexity of accessing elements in a dictionary ?\n",
        "  - In Python, the time complexity of accessing elements in a dictionary is generally O(1), which is constant time. This is because Python dictionaries are implemented using hash tables, which allow for efficient key lookups.\n",
        "\n",
        "\n",
        "\n",
        "18. In what situations are lists preferred over dictionaries ?\n",
        "  - In Python, lists and dictionaries are both versatile data structures, but they are used in different situations based on the requirements of your program. Lists are generally preferred over dictionaries in certain scenarios due to their characteristics and behavior.\n",
        "\n",
        "   When the Data is Ordered:\n",
        "\n",
        "  Lists maintain the order of insertion. If you need to preserve the sequence of elements or access them by their position (index), lists are the natural choice.\n",
        "  \n",
        "  Example: When processing a sequence of items like a series of tasks, names, or even numbers in a specific order, a list is ideal.\n",
        "\n",
        "  When You Need to Store Multiple Values of the Same Type:\n",
        "\n",
        "  If you need to store multiple occurrences of the same element, lists are better because they can contain duplicate values.\n",
        "  \n",
        "  If you need to store multiple occurrences of the same element, lists are better because they can contain duplicate values.\n",
        "\n",
        "  Example: A list can be used to store a collection of ages where multiple people might have the same age.\n",
        "\n",
        "\n",
        "19. Why are dictionaries considered unordered, and how does that affect data retrieval ?\n",
        "  - Dictionaries in Python are considered unordered because the order in which key-value pairs are stored in the dictionary is not guaranteed. This is due to the internal implementation of dictionaries using hash tables, which are designed for efficient key-based lookups but do not maintain the order of insertion.\n",
        "\n",
        "  Why Are Dictionaries Unordered?\n",
        "  \n",
        "  Hash Table Implementation\n",
        "\n",
        "  Efficiency over Order\n",
        "\n",
        "  How Does This Affect Data Retrieval?\n",
        "  \n",
        "  No Guarantees of Order\n",
        "\n",
        "  Accessing Data\n",
        "\n",
        "  Impact on Operations\n",
        "\n",
        "\n",
        "\n",
        "20. Explain the difference between a list and a dictionary in terms of data retrieval ?\n",
        "\n",
        "  -The primary difference between a list and a dictionary in terms of data retrieval lies in how the data is stored and accessed:\n",
        "\n",
        "  Accessing Data in a List\n",
        "\n",
        "   - Key-Based Access: Lists are indexed by their position (integer index), not by a key. This means that you access an element using its index, which is a number that represents its position in the sequence.\n",
        "\n",
        "   - Data Retrieval Time: Retrieving an item from a list using an index is generally O(1) (constant time) because Python uses the index to directly access the memory address of the element.\n",
        "\n",
        "   - Ordered: Lists maintain insertion order, so elements are stored in the sequence they were added. This allows for sequential access via indices, from the beginning to the end or vice versa.\n",
        "\n",
        "   - Iteration: When iterating over a list, you go through the items in the same order they were inserted (insertion order is preserved).\n",
        "  \n",
        "  Accessing Data in a Dictionary:\n",
        "  \n",
        "   - Key-Based Access: Dictionaries are key-value pairs. You access data by key, which is typically a unique identifier for the data. Instead of using an index (like in lists), you retrieve a value by specifying the key.\n",
        "\n",
        "   - Data Retrieval Time: Retrieving an item from a dictionary using a key is generally O(1) (constant time) due to the underlying hash table implementation. The key is hashed to find its corresponding value in the table, which allows for very fast lookups.\n",
        "\n",
        "   - Unordered (Prior to Python 3.7): Dictionaries in Python prior to version 3.7 do not maintain insertion order. However, starting from Python 3.7, dictionaries do maintain insertion order, meaning that items are stored in the order they are added, though keys are still required for access.\n",
        "\n",
        "   - Iteration: When iterating over a dictionary, you access its keys, values, or both in an arbitrary order (in earlier versions of Python), or in insertion order in Python 3.7+.\n",
        "\n",
        "\n",
        "\n",
        "\n",
        "\n",
        "\n",
        "\n",
        "\n",
        "\n",
        "\n",
        "\n",
        "\n",
        "\n",
        "\n",
        "\n"
      ],
      "metadata": {
        "id": "m_lRrt_inKqe"
      }
    },
    {
      "cell_type": "code",
      "source": [],
      "metadata": {
        "id": "s_OL515dnHSV"
      },
      "execution_count": null,
      "outputs": []
    },
    {
      "cell_type": "markdown",
      "source": [
        "Data Types and Structures Practical Questions"
      ],
      "metadata": {
        "id": "9IYzDKXi91id"
      }
    },
    {
      "cell_type": "code",
      "source": [
        "# 1. Write a code to create a string with your name and print it\n",
        "\n",
        "my_name = \"Rohit Jha\"\n",
        "print(my_name)"
      ],
      "metadata": {
        "colab": {
          "base_uri": "https://localhost:8080/"
        },
        "id": "dDyNiR1v-Gsx",
        "outputId": "0386f76a-664e-4bef-9498-53e4824c906a"
      },
      "execution_count": 2,
      "outputs": [
        {
          "output_type": "stream",
          "name": "stdout",
          "text": [
            "Rohit Jha\n"
          ]
        }
      ]
    },
    {
      "cell_type": "code",
      "source": [
        "# 2. Write a code to find the length of the string \"Hello World\"\n",
        "\n",
        "a = \"Hello World\"\n",
        "len(a)"
      ],
      "metadata": {
        "colab": {
          "base_uri": "https://localhost:8080/"
        },
        "id": "8Hc0eBMg-T5e",
        "outputId": "bff8e468-9f1f-434c-82be-58c96490d1e0"
      },
      "execution_count": 3,
      "outputs": [
        {
          "output_type": "execute_result",
          "data": {
            "text/plain": [
              "11"
            ]
          },
          "metadata": {},
          "execution_count": 3
        }
      ]
    },
    {
      "cell_type": "code",
      "source": [
        "# 3. Write a code to slice the first 3 characters from the string \"Python Programming\"\n",
        "\n",
        "my_string = \"Python Programming\"\n",
        "sliced_string = my_string[:3]\n",
        "print(sliced_string)"
      ],
      "metadata": {
        "colab": {
          "base_uri": "https://localhost:8080/"
        },
        "id": "v0zsCGA4-yD1",
        "outputId": "6601ed99-dad5-4054-abeb-5dc3e48379fb"
      },
      "execution_count": 7,
      "outputs": [
        {
          "output_type": "stream",
          "name": "stdout",
          "text": [
            "Pyt\n"
          ]
        }
      ]
    },
    {
      "cell_type": "code",
      "source": [
        "# 4. Write a code to convert the string \"hello\" to uppercase\n",
        "\n",
        "my_string = \"hello\"\n",
        "uppercase_string = my_string.upper()\n",
        "print(uppercase_string)"
      ],
      "metadata": {
        "colab": {
          "base_uri": "https://localhost:8080/"
        },
        "id": "zgQFRpFB_Ybo",
        "outputId": "9ae96bbc-a7ca-4bd8-da0c-e823d510f669"
      },
      "execution_count": 8,
      "outputs": [
        {
          "output_type": "stream",
          "name": "stdout",
          "text": [
            "HELLO\n"
          ]
        }
      ]
    },
    {
      "cell_type": "code",
      "source": [
        "# 5. Write a code to replace the word \"apple\" with \"orange\" in the string \"I like apple\"\n",
        "\n",
        "my_string = \"I like apple\"\n",
        "new_string = my_string.replace(\"apple\", \"orange\")\n",
        "print(new_string)"
      ],
      "metadata": {
        "colab": {
          "base_uri": "https://localhost:8080/"
        },
        "id": "wFLv9gV-AEaA",
        "outputId": "e547490c-6a9e-48d8-86b8-92b89a466836"
      },
      "execution_count": 9,
      "outputs": [
        {
          "output_type": "stream",
          "name": "stdout",
          "text": [
            "I like orange\n"
          ]
        }
      ]
    },
    {
      "cell_type": "code",
      "source": [
        "# 6. Write a code to create a list with numbers 1 to 5 and print it\n",
        "\n",
        "my_list = [1, 2, 3, 4, 5]\n",
        "print(my_list)"
      ],
      "metadata": {
        "colab": {
          "base_uri": "https://localhost:8080/"
        },
        "id": "eh2dhCbdAgRe",
        "outputId": "72424b93-32a2-4939-8ca9-84dbef1927fe"
      },
      "execution_count": 10,
      "outputs": [
        {
          "output_type": "stream",
          "name": "stdout",
          "text": [
            "[1, 2, 3, 4, 5]\n"
          ]
        }
      ]
    },
    {
      "cell_type": "code",
      "source": [
        "# 7. Write a code to append the number 10 to the list [1, 2, 3, 4]\n",
        "\n",
        "my_list = [1, 2, 3, 4]\n",
        "my_list.append(10)\n",
        "print(my_list)"
      ],
      "metadata": {
        "colab": {
          "base_uri": "https://localhost:8080/"
        },
        "id": "acfhXiTzBCdb",
        "outputId": "bca8deca-fd9c-4f08-de19-83af2c45ca6d"
      },
      "execution_count": 13,
      "outputs": [
        {
          "output_type": "stream",
          "name": "stdout",
          "text": [
            "[1, 2, 3, 4, 10]\n"
          ]
        }
      ]
    },
    {
      "cell_type": "code",
      "source": [
        "# 8. Write a code to remove the number 3 from the list [1, 2, 3, 4, 5]\n",
        "\n",
        "my_list = [1, 2, 3, 4, 5]\n",
        "my_list.remove(3)\n",
        "print(my_list)"
      ],
      "metadata": {
        "colab": {
          "base_uri": "https://localhost:8080/"
        },
        "id": "8mBjHWhPBLCo",
        "outputId": "211f7378-9dd5-415d-ab60-c23519bf8744"
      },
      "execution_count": 14,
      "outputs": [
        {
          "output_type": "stream",
          "name": "stdout",
          "text": [
            "[1, 2, 4, 5]\n"
          ]
        }
      ]
    },
    {
      "cell_type": "code",
      "source": [
        "# 9. Write a code to access the second element in the list ['a', 'b', 'c', 'd']\n",
        "\n",
        "my_list = ['a', 'b', 'c', 'd']\n",
        "second_element = my_list[1]\n",
        "print(second_element)"
      ],
      "metadata": {
        "colab": {
          "base_uri": "https://localhost:8080/"
        },
        "id": "WQydkEHOBXLu",
        "outputId": "2f4c33ef-7103-4f72-8ca6-1f4dba0bc039"
      },
      "execution_count": 15,
      "outputs": [
        {
          "output_type": "stream",
          "name": "stdout",
          "text": [
            "b\n"
          ]
        }
      ]
    },
    {
      "cell_type": "code",
      "source": [
        "# 10. Write a code to reverse the list [10, 20, 30, 40, 50]\n",
        "\n",
        "my_list = [10, 20, 30, 40, 50]\n",
        "reversed_list = my_list[::-1]\n",
        "print(reversed_list)"
      ],
      "metadata": {
        "colab": {
          "base_uri": "https://localhost:8080/"
        },
        "id": "kqrxrRskBgTh",
        "outputId": "aba898ad-9b24-4854-d9ed-81a5b2f02c73"
      },
      "execution_count": 16,
      "outputs": [
        {
          "output_type": "stream",
          "name": "stdout",
          "text": [
            "[50, 40, 30, 20, 10]\n"
          ]
        }
      ]
    },
    {
      "cell_type": "code",
      "source": [
        "# 11.  Write a code to create a tuple with the elements 10, 20, 30 and print it\n",
        "\n",
        "my_tuple = (10, 20, 30)\n",
        "print(my_tuple)\n"
      ],
      "metadata": {
        "colab": {
          "base_uri": "https://localhost:8080/"
        },
        "id": "0OdzWw4mBqq9",
        "outputId": "aeb4389b-a67f-4fdb-d70e-a8cc14d0b111"
      },
      "execution_count": 18,
      "outputs": [
        {
          "output_type": "stream",
          "name": "stdout",
          "text": [
            "(10, 20, 30)\n"
          ]
        }
      ]
    },
    {
      "cell_type": "code",
      "source": [
        "# 12.  Write a code to access the first element of the tuple ('apple', 'banana', 'cherry')\n",
        "\n",
        "my_tuple = ('apple', 'banana', 'cherry')\n",
        "first_element = my_tuple[0]\n",
        "print(first_element)"
      ],
      "metadata": {
        "colab": {
          "base_uri": "https://localhost:8080/"
        },
        "id": "tU1JBlQYCI0U",
        "outputId": "efb34722-6e43-4155-caf7-ab1fa5cae9f4"
      },
      "execution_count": 19,
      "outputs": [
        {
          "output_type": "stream",
          "name": "stdout",
          "text": [
            "apple\n"
          ]
        }
      ]
    },
    {
      "cell_type": "code",
      "source": [
        "# 13. Write a code to count how many times the number 2 appears in the tuple (1, 2, 3, 2, 4, 2)\n",
        "\n",
        "my_tuple = (1, 2, 3, 2, 4, 2)\n",
        "count_of_two = my_tuple.count(2)\n",
        "print(count_of_two)"
      ],
      "metadata": {
        "colab": {
          "base_uri": "https://localhost:8080/"
        },
        "id": "hPZshR8nCXo1",
        "outputId": "e11c8a0f-0492-438c-c58b-4d1d29ad5b23"
      },
      "execution_count": 20,
      "outputs": [
        {
          "output_type": "stream",
          "name": "stdout",
          "text": [
            "3\n"
          ]
        }
      ]
    },
    {
      "cell_type": "code",
      "source": [
        "# 14. Write a code to find the index of the element \"cat\" in the tuple ('dog', 'cat', 'rabbit')\n",
        "\n",
        "my_tuple = ('dog', 'cat', 'rabbit')\n",
        "index_of_cat = my_tuple.index('cat')\n",
        "print(index_of_cat)"
      ],
      "metadata": {
        "colab": {
          "base_uri": "https://localhost:8080/"
        },
        "id": "CPws3gcSDTrf",
        "outputId": "76396e87-94e5-4c40-e788-0ba4e1082256"
      },
      "execution_count": 22,
      "outputs": [
        {
          "output_type": "stream",
          "name": "stdout",
          "text": [
            "1\n"
          ]
        }
      ]
    },
    {
      "cell_type": "code",
      "source": [
        "# 15.  Write a code to check if the element \"banana\" is in the tuple ('apple', 'orange', 'banana')\n",
        "\n",
        "my_tuple = ('apple', 'orange', 'banana')\n",
        "if 'banana' in my_tuple:\n",
        "    print(\"Banana is in the tuple.\")\n",
        "else:\n",
        "    print(\"Banana is not in the tuple.\")"
      ],
      "metadata": {
        "colab": {
          "base_uri": "https://localhost:8080/"
        },
        "id": "vHdf1aM5DgtX",
        "outputId": "442eb745-db18-4dff-e38e-ba553cfcdf53"
      },
      "execution_count": 23,
      "outputs": [
        {
          "output_type": "stream",
          "name": "stdout",
          "text": [
            "Banana is in the tuple.\n"
          ]
        }
      ]
    },
    {
      "cell_type": "code",
      "source": [
        "# 16.  Write a code to create a set with the elements 1, 2, 3, 4, 5 and print it\n",
        "\n",
        "my_set = {1, 2, 3, 4, 5}\n",
        "print(my_set)"
      ],
      "metadata": {
        "colab": {
          "base_uri": "https://localhost:8080/"
        },
        "id": "EYKY0mBTEQ7R",
        "outputId": "93bcfc0e-d124-4ed0-beeb-aaf23d35085c"
      },
      "execution_count": 24,
      "outputs": [
        {
          "output_type": "stream",
          "name": "stdout",
          "text": [
            "{1, 2, 3, 4, 5}\n"
          ]
        }
      ]
    },
    {
      "cell_type": "code",
      "source": [
        "# 17.  Write a code to add the element 6 to the set {1, 2, 3, 4}\n",
        "\n",
        "my_set = {1,2,3,4}\n",
        "my_set.add(6)\n",
        "print(my_set)"
      ],
      "metadata": {
        "colab": {
          "base_uri": "https://localhost:8080/"
        },
        "id": "5XwaqFg1EnUu",
        "outputId": "89f6d615-44b1-4736-b825-f11bcd1b6a0d"
      },
      "execution_count": 25,
      "outputs": [
        {
          "output_type": "stream",
          "name": "stdout",
          "text": [
            "{1, 2, 3, 4, 6}\n"
          ]
        }
      ]
    },
    {
      "cell_type": "code",
      "source": [
        "# 18. Write a code to create a tuple with the elements 10, 20, 30 and print it\n",
        "\n",
        "my_tuple = (10, 20, 30)\n",
        "print(my_tuple)"
      ],
      "metadata": {
        "colab": {
          "base_uri": "https://localhost:8080/"
        },
        "id": "aYPyQJ1CFZTE",
        "outputId": "9dfe5c71-87e4-48ba-f159-70a53039fce2"
      },
      "execution_count": 26,
      "outputs": [
        {
          "output_type": "stream",
          "name": "stdout",
          "text": [
            "(10, 20, 30)\n"
          ]
        }
      ]
    },
    {
      "cell_type": "code",
      "source": [
        "# 19. Write a code to access the first element of the tuple ('apple', 'banana', 'cherry')\n",
        "\n",
        "my_tuple = ('apple', 'banana', 'cherry')\n",
        "first_element = my_tuple[0]\n",
        "print(first_element)"
      ],
      "metadata": {
        "colab": {
          "base_uri": "https://localhost:8080/"
        },
        "id": "OscsjtmEF-VC",
        "outputId": "0b2b5c82-9dd0-43d7-c7f5-1161988a5827"
      },
      "execution_count": 27,
      "outputs": [
        {
          "output_type": "stream",
          "name": "stdout",
          "text": [
            "apple\n"
          ]
        }
      ]
    },
    {
      "cell_type": "code",
      "source": [
        "# 20.  Write a code to count how many times the number 2 appears in the tuple (1, 2, 3, 2, 4, 2)\n",
        "\n",
        "my_tuple = (1, 2, 3, 2, 4, 2)\n",
        "count_of_two = my_tuple.count(2)\n",
        "print(count_of_two)"
      ],
      "metadata": {
        "colab": {
          "base_uri": "https://localhost:8080/"
        },
        "id": "yEr1uJkkGMzV",
        "outputId": "3682981c-cc26-4bdc-ed1d-5b70474fcfa3"
      },
      "execution_count": 28,
      "outputs": [
        {
          "output_type": "stream",
          "name": "stdout",
          "text": [
            "3\n"
          ]
        }
      ]
    },
    {
      "cell_type": "code",
      "source": [
        "# 21.  Write a code to find the index of the element \"cat\" in the tuple ('dog', 'cat', 'rabbit')\n",
        "\n",
        "my_tuple = ('dog', 'cat', 'rabbit')\n",
        "index_of_cat = my_tuple.index('cat')\n",
        "print(index_of_cat)"
      ],
      "metadata": {
        "colab": {
          "base_uri": "https://localhost:8080/"
        },
        "id": "v_lIkrfVGZwS",
        "outputId": "6a6bf511-cbbf-48cc-c2ef-33d543df0de5"
      },
      "execution_count": 29,
      "outputs": [
        {
          "output_type": "stream",
          "name": "stdout",
          "text": [
            "1\n"
          ]
        }
      ]
    },
    {
      "cell_type": "code",
      "source": [
        "# 22.  Write a code to check if the element \"banana\" is in the tuple ('apple', 'orange', 'banana')\n",
        "\n",
        "my_tuple = ('apple', 'orange', 'banana')\n",
        "if 'banana' in my_tuple:\n",
        "    print(\"Banana is in the tuple.\")\n",
        "else:\n",
        "    print(\"Banana is not in the tuple.\")"
      ],
      "metadata": {
        "colab": {
          "base_uri": "https://localhost:8080/"
        },
        "id": "-rbBM_rGGppY",
        "outputId": "adbdd410-9c3c-4d30-86b1-80e4b000e174"
      },
      "execution_count": 30,
      "outputs": [
        {
          "output_type": "stream",
          "name": "stdout",
          "text": [
            "Banana is in the tuple.\n"
          ]
        }
      ]
    },
    {
      "cell_type": "code",
      "source": [
        "# 23.  Write a code to create a set with the elements 1, 2, 3, 4, 5 and print it.\n",
        "\n",
        "my_set = {1, 2, 3, 4, 5}\n",
        "print(my_set)"
      ],
      "metadata": {
        "colab": {
          "base_uri": "https://localhost:8080/"
        },
        "id": "AlsIVsZ0G0X0",
        "outputId": "0f79d5bd-d2bb-42ee-b7f4-bf681ba53606"
      },
      "execution_count": 31,
      "outputs": [
        {
          "output_type": "stream",
          "name": "stdout",
          "text": [
            "{1, 2, 3, 4, 5}\n"
          ]
        }
      ]
    },
    {
      "cell_type": "code",
      "source": [
        "# 24.  Write a code to add the element 6 to the set {1, 2, 3, 4}\n",
        "\n",
        "my_set = {1, 2, 3, 4}\n",
        "my_set.add(6)\n",
        "print(my_set)"
      ],
      "metadata": {
        "colab": {
          "base_uri": "https://localhost:8080/"
        },
        "id": "5BDEVX7IHE8t",
        "outputId": "75dffc5e-38c4-4dc2-bd13-d32f705f98e1"
      },
      "execution_count": 32,
      "outputs": [
        {
          "output_type": "stream",
          "name": "stdout",
          "text": [
            "{1, 2, 3, 4, 6}\n"
          ]
        }
      ]
    },
    {
      "cell_type": "code",
      "source": [],
      "metadata": {
        "id": "0reWjtPKHKkF"
      },
      "execution_count": null,
      "outputs": []
    }
  ]
}